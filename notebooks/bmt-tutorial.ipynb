{
 "cells": [
  {
   "cell_type": "code",
   "execution_count": 1,
   "id": "64ff58e6",
   "metadata": {},
   "outputs": [
    {
     "name": "stderr",
     "output_type": "stream",
     "text": [
      "WARNING:ToolkitGenerator:Prefix case mismatch - supplied: Xenbase expected: XENBASE\n"
     ]
    },
    {
     "name": "stdout",
     "output_type": "stream",
     "text": [
      "predicate does not descend from 'related_to: biolink:has_evidence\n",
      "missing predicate: biolink:enriched_in_genes_correlated_with\n"
     ]
    }
   ],
   "source": [
    "import bmt\n",
    "import requests\n",
    "import json\n",
    "from pprint import pprint\n",
    "\n",
    "tk = bmt.Toolkit()\n",
    "\n",
    "# /meta_knowledge_graph endpoint\n",
    "response = requests.get(\"https://tinyurl.com/ahn28nu5\")\n",
    "edges_and_nodes = response.json()\n",
    "missing_predicates = []\n",
    "mismatch_domain = []\n",
    "domains = []\n",
    "\n",
    "element = tk.get_element()\n",
    "print (element.id_prefixes)    \n",
    "    \n",
    "    \n",
    "for edge in edges_and_nodes.get('edges'):\n",
    "    subject = edge.get('subject')\n",
    "    predicate = edge.get('predicate')\n",
    "    p_object = edge.get('object')\n",
    "    if not tk.is_predicate(predicate):\n",
    "        # format the return as biolink:snake_case_string instead of snake_case_string\n",
    "        association_slots = tk.get_all_edge_properties(True)\n",
    "        if predicate in association_slots:\n",
    "            print(\"predicate does not descend from 'related_to: \" + predicate)\n",
    "        elif tk.is_mixin(predicate):\n",
    "                print(\"predicate is a mixin: \" + predicate)\n",
    "        else:\n",
    "            missing_predicates.append(predicate)\n",
    "            print(\"missing predicate: \" + predicate)\n",
    "    else:\n",
    "        domains = tk.get_ancestors(subject, True, True)\n",
    "        if subject not in domains:\n",
    "            print (\"domain mismatch: \" + tk.get_slot_domain(predicate))\n",
    "            mismatch_domain.append({\"predicate\": predicate,\n",
    "                                    \"domain_in_model\": tk.get_slot_domain(predicate), \n",
    "                                    \"domain_in_endpoint\": source})\n",
    "        if not tk.is_predicate(predicate):\n",
    "            association_slots = tk.get_all_edge_properties(True)\n",
    "            if predicate in association_slots:\n",
    "                print(\"predicate does not descend from 'related_to: \" + predicate)\n",
    "            elif tk.is_mixin(predicate):\n",
    "                print(\"predicate is a mixin: \" + predicate)\n",
    "            else:\n",
    "                missing_predicates.append(predicate)\n",
    "                print(\"missing predicate: \" + predicate)\n",
    "    \n",
    "        \n",
    "    \n",
    "                "
   ]
  },
  {
   "cell_type": "code",
   "execution_count": 56,
   "id": "9b32fef4",
   "metadata": {},
   "outputs": [
    {
     "ename": "AssertionError",
     "evalue": "",
     "output_type": "error",
     "traceback": [
      "\u001b[0;31m---------------------------------------------------------------------------\u001b[0m",
      "\u001b[0;31mAssertionError\u001b[0m                            Traceback (most recent call last)",
      "\u001b[0;32m/var/folders/2d/1xhwsfs15qb37bv4m62xn0tc0000gp/T/ipykernel_1035/2952314104.py\u001b[0m in \u001b[0;36m<module>\u001b[0;34m\u001b[0m\n\u001b[1;32m      1\u001b[0m \u001b[0;32massert\u001b[0m \u001b[0mtk\u001b[0m\u001b[0;34m.\u001b[0m\u001b[0mis_mixin\u001b[0m\u001b[0;34m(\u001b[0m\u001b[0;34m'regulates'\u001b[0m\u001b[0;34m)\u001b[0m\u001b[0;34m\u001b[0m\u001b[0;34m\u001b[0m\u001b[0m\n\u001b[1;32m      2\u001b[0m \u001b[0;32massert\u001b[0m \u001b[0mtk\u001b[0m\u001b[0;34m.\u001b[0m\u001b[0mhas_inverse\u001b[0m\u001b[0;34m(\u001b[0m\u001b[0;34m'treats'\u001b[0m\u001b[0;34m)\u001b[0m\u001b[0;34m\u001b[0m\u001b[0;34m\u001b[0m\u001b[0m\n\u001b[0;32m----> 3\u001b[0;31m \u001b[0;32massert\u001b[0m \u001b[0mtk\u001b[0m\u001b[0;34m.\u001b[0m\u001b[0mhas_inverse\u001b[0m\u001b[0;34m(\u001b[0m\u001b[0;34m'close match'\u001b[0m\u001b[0;34m)\u001b[0m\u001b[0;34m\u001b[0m\u001b[0;34m\u001b[0m\u001b[0m\n\u001b[0m",
      "\u001b[0;31mAssertionError\u001b[0m: "
     ]
    }
   ],
   "source": [
    "assert tk.is_mixin('regulates')\n",
    "assert tk.has_inverse('treats')\n",
    "assert tk.has_inverse('close match')"
   ]
  },
  {
   "cell_type": "code",
   "execution_count": 55,
   "id": "75fdb17d",
   "metadata": {},
   "outputs": [
    {
     "ename": "AssertionError",
     "evalue": "",
     "output_type": "error",
     "traceback": [
      "\u001b[0;31m---------------------------------------------------------------------------\u001b[0m",
      "\u001b[0;31mAssertionError\u001b[0m                            Traceback (most recent call last)",
      "\u001b[0;32m/var/folders/2d/1xhwsfs15qb37bv4m62xn0tc0000gp/T/ipykernel_1035/3419875488.py\u001b[0m in \u001b[0;36m<module>\u001b[0;34m\u001b[0m\n\u001b[1;32m      1\u001b[0m \u001b[0;32massert\u001b[0m \u001b[0mtk\u001b[0m\u001b[0;34m.\u001b[0m\u001b[0mis_predicate\u001b[0m\u001b[0;34m(\u001b[0m\u001b[0;34m'process negatively regulates process'\u001b[0m\u001b[0;34m)\u001b[0m\u001b[0;34m\u001b[0m\u001b[0;34m\u001b[0m\u001b[0m\n\u001b[0;32m----> 2\u001b[0;31m \u001b[0;32massert\u001b[0m \u001b[0mtk\u001b[0m\u001b[0;34m.\u001b[0m\u001b[0mis_predicate\u001b[0m\u001b[0;34m(\u001b[0m\u001b[0;34m'negatively regulates, process to process'\u001b[0m\u001b[0;34m)\u001b[0m\u001b[0;34m\u001b[0m\u001b[0;34m\u001b[0m\u001b[0m\n\u001b[0m",
      "\u001b[0;31mAssertionError\u001b[0m: "
     ]
    }
   ],
   "source": [
    "assert tk.is_predicate('process negatively regulates process')\n",
    "assert tk.is_predicate('negatively regulates, process to process')"
   ]
  },
  {
   "cell_type": "code",
   "execution_count": 3,
   "id": "06fbb4c7",
   "metadata": {},
   "outputs": [
    {
     "name": "stderr",
     "output_type": "stream",
     "text": [
      "WARNING:ToolkitGenerator:Prefix case mismatch - supplied: Xenbase expected: XENBASE\n"
     ]
    },
    {
     "name": "stdout",
     "output_type": "stream",
     "text": [
      "['NCBIGene', 'ENSEMBL', 'HGNC', 'MGI', 'ZFIN', 'dictyBase', 'WB', 'WormBase', 'FB', 'RGD', 'SGD', 'POMBASE', 'OMIM', 'KEGG.GENE', 'UMLS', 'Xenbase']\n"
     ]
    }
   ],
   "source": [
    "import bmt\n",
    "import requests\n",
    "import json\n",
    "from pprint import pprint\n",
    "\n",
    "tk = bmt.Toolkit()\n",
    "\n",
    "# /meta_knowledge_graph endpoint\n",
    "response = requests.get(\"https://tinyurl.com/ahn28nu5\")\n",
    "edges_and_nodes = response.json()\n",
    "missing_predicates = []\n",
    "mismatch_domain = []\n",
    "domains = []\n",
    "\n",
    "element = tk.get_element('gene')\n",
    "print (element.id_prefixes) "
   ]
  },
  {
   "cell_type": "code",
   "execution_count": null,
   "id": "7f58c1d2",
   "metadata": {},
   "outputs": [],
   "source": []
  }
 ],
 "metadata": {
  "kernelspec": {
   "display_name": "Python 3",
   "language": "python",
   "name": "python3"
  },
  "language_info": {
   "codemirror_mode": {
    "name": "ipython",
    "version": 3
   },
   "file_extension": ".py",
   "mimetype": "text/x-python",
   "name": "python",
   "nbconvert_exporter": "python",
   "pygments_lexer": "ipython3",
   "version": "3.7.4"
  }
 },
 "nbformat": 4,
 "nbformat_minor": 5
}
