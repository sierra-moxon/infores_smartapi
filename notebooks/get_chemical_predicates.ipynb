{
 "cells": [
  {
   "cell_type": "code",
   "execution_count": 19,
   "id": "dc860e69",
   "metadata": {},
   "outputs": [],
   "source": [
    "import bmt\n",
    "import pandas as pd\n"
   ]
  },
  {
   "cell_type": "code",
   "execution_count": 27,
   "id": "a340080a",
   "metadata": {},
   "outputs": [
    {
     "name": "stderr",
     "output_type": "stream",
     "text": [
      "WARNING:ToolkitGenerator:Prefix case mismatch - supplied: Xenbase expected: XENBASE\n"
     ]
    },
    {
     "name": "stdout",
     "output_type": "stream",
     "text": [
      "interacts_with\n",
      "binds\n",
      "affects\n",
      "modulates\n",
      "adduct_of\n",
      "chelates\n",
      "sequesters\n",
      "antibody_of\n",
      "crosslinks\n",
      "possitively modulates\n",
      "negatively modulates\n",
      "increases activity of\n",
      "negatively affects\n",
      "induces\n",
      "degrades\n",
      "hydorlyses\n",
      "proteolyses\n",
      "oxidizes\n",
      "reduces\n",
      "possitively affects\n",
      "negatively affects\n",
      "activates\n",
      "stimulates\n",
      "agonist_of\n",
      "supresses\n",
      "blocks\n",
      "disrupts\n",
      "opens\n",
      "inhibits\n",
      "partial_agonist_of\n",
      "neutrilizes\n",
      "stabilizes\n",
      "reverses\n",
      "inverse_agonist_of\n",
      "substrate_of\n",
      "is_affected_by\n",
      "inactivates\n",
      "affects\n",
      "part_of\n",
      "oxidizes\n",
      "affects\n",
      "weakly_inhibits\n"
     ]
    }
   ],
   "source": [
    "tk = bmt.Toolkit()\n",
    "df = pd.read_csv(\"ChemicalRelations.tsv\", sep='\\t')\n",
    "defs = []\n",
    "\n",
    "\n",
    "for index, row in df.iterrows():\n",
    "    if row['term'] == 'nan':\n",
    "        continue\n",
    "    else:\n",
    "        blm_element = tk.get_element(row['term'])\n",
    "        print(row['term'])\n",
    "        if blm_element:\n",
    "            filled_row = {\n",
    "                \"supplied_term\": row['term'],\n",
    "                \"blm_term\": blm_element.name,\n",
    "                \"blm_description\": blm_element.description\n",
    "            }\n",
    "            defs.append(filled_row)\n",
    "            \n",
    "df_description = pd.DataFrame (defs, columns = ['supplied_term','blm_term','blm_description'])\n",
    "df_description.to_csv(r'predicates_with_descriptions.csv', index = False)\n",
    "\n",
    "# delimiter=None"
   ]
  },
  {
   "cell_type": "code",
   "execution_count": null,
   "id": "58b8414a",
   "metadata": {},
   "outputs": [],
   "source": []
  }
 ],
 "metadata": {
  "kernelspec": {
   "display_name": "Python 3",
   "language": "python",
   "name": "python3"
  },
  "language_info": {
   "codemirror_mode": {
    "name": "ipython",
    "version": 3
   },
   "file_extension": ".py",
   "mimetype": "text/x-python",
   "name": "python",
   "nbconvert_exporter": "python",
   "pygments_lexer": "ipython3",
   "version": "3.7.4"
  }
 },
 "nbformat": 4,
 "nbformat_minor": 5
}
